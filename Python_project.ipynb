{
  "cells": [
    {
      "cell_type": "code",
      "execution_count": null,
      "metadata": {
        "colab": {
          "base_uri": "https://localhost:8080/"
        },
        "id": "-HOqm7DgN4Sj",
        "outputId": "13948356-a5cb-45a7-f322-29cc14611ba4"
      },
      "outputs": [
        {
          "name": "stdout",
          "output_type": "stream",
          "text": [
            "Collecting PyPDF2\n",
            "  Downloading pypdf2-3.0.1-py3-none-any.whl.metadata (6.8 kB)\n",
            "Downloading pypdf2-3.0.1-py3-none-any.whl (232 kB)\n",
            "\u001b[?25l   \u001b[90m━━━━━━━━━━━━━━━━━━━━━━━━━━━━━━━━━━━━━━━━\u001b[0m \u001b[32m0.0/232.6 kB\u001b[0m \u001b[31m?\u001b[0m eta \u001b[36m-:--:--\u001b[0m\r\u001b[2K   \u001b[90m━━━━━━━━━━━━━━━━━━━━━━━━━━━━━━━━━━━━━━━━\u001b[0m \u001b[32m232.6/232.6 kB\u001b[0m \u001b[31m7.0 MB/s\u001b[0m eta \u001b[36m0:00:00\u001b[0m\n",
            "\u001b[?25hInstalling collected packages: PyPDF2\n",
            "Successfully installed PyPDF2-3.0.1\n"
          ]
        }
      ],
      "source": [
        "!pip install PyPDF2"
      ]
    },
    {
      "cell_type": "code",
      "execution_count": null,
      "metadata": {
        "colab": {
          "base_uri": "https://localhost:8080/"
        },
        "id": "gJOP3ZvmOXgX",
        "outputId": "adf95628-53c8-4bf7-f7b7-d41f2735ee56"
      },
      "outputs": [
        {
          "name": "stdout",
          "output_type": "stream",
          "text": [
            "Merged PDF saved as merged.pdf\n"
          ]
        }
      ],
      "source": [
        "#Merging PDFs:\n",
        "\n",
        "import PyPDF2\n",
        "\n",
        "def merge_pdfs(pdf_list,output_path):\n",
        "  pdf_writer = PyPDF2.PdfWriter() # Writeable pdf is created in memory.\n",
        "  for pdf in pdf_list: # Iterates over each pdf in pdf_list.\n",
        "    pdf_reader = PyPDF2.PdfReader(pdf)  # Readable pdf is created inmemory which only reads one pdf at a time.\n",
        "    for page_num in range(len(pdf_reader.pages)): # Iterates over each page in pdf.\n",
        "       pdf_writer.add_page(pdf_reader.pages[page_num])    # Every page no. from each pdf is added to writeable pdf still in memory.\n",
        "\n",
        "  with open(output_path,'wb') as out : # Here output_path specifies the file location and name . We are opening the file as (out) in binary mode.\n",
        "    pdf_writer.write(out)  # Takes all the pages that have been added to pdf_writer and writes them to the specified output file (out).\n",
        "  print(f\"Merged PDF saved as {output_path}\")\n",
        "\n",
        "merge_pdfs([ 'Page+1.pdf','Page+2.pdf', 'Page+3.pdf','Page+4.pdf'],'merged.pdf') # Here merged.pdf indicates that the merged pdf should be saved as merged.pdf in current directory . If we write 'pdf_files/merged.pdf' then merged pdf will be stored in pdf_files which is a sub directory of current working directory .\n",
        "\n"
      ]
    },
    {
      "cell_type": "markdown",
      "metadata": {
        "id": "EahEQFmoODe8"
      },
      "source": []
    },
    {
      "cell_type": "code",
      "execution_count": null,
      "metadata": {
        "colab": {
          "base_uri": "https://localhost:8080/"
        },
        "id": "6Ez8STT_RIo1",
        "outputId": "78dbd47f-4144-4420-ec85-f7942925772b"
      },
      "outputs": [
        {
          "name": "stdout",
          "output_type": "stream",
          "text": [
            "Saved pdf_files/page_1.pdf\n",
            "Saved pdf_files/page_2.pdf\n",
            "Saved pdf_files/page_3.pdf\n",
            "Saved pdf_files/page_4.pdf\n"
          ]
        }
      ],
      "source": [
        "#Extracting PDFs:\n",
        "\n",
        "import PyPDF2\n",
        "\n",
        "def split_pdf(pdf_path,output_dir):\n",
        "  pdf_reader = PyPDF2.PdfReader(pdf_path)  #Loading an existing PDF file into memory, which allows us to access and manipulate its contents programmatically.\n",
        "  for page_num in range(len(pdf_reader.pages)):\n",
        "    pdf_writer = PyPDF2.PdfWriter()  # Writeable pdf is created in memory\n",
        "    pdf_writer.add_page(pdf_reader.pages[page_num])  # Every page no. from each pdf is added to writeable pdf still in memory.\n",
        "    output_path = f\"{output_dir}/page_{page_num+1}.pdf\" # Inside output directory pages will be stored like page_1 , page_2 etc.\n",
        "\n",
        "    with open(output_path, 'wb') as out: # Here output_path specifies the file location and name . We are opening the file as (out) in binary mode.\n",
        "      pdf_writer.write(out)  # Takes all the pages that have been added to pdf_writer and writes them to the specified output file (out),\n",
        "    print(f\"Saved {output_path}\")\n",
        "\n",
        "split_pdf('merged.pdf', 'pdf_files')# Here merged.pdf indicates the path where it is stored . pdf_files is the Directory where individual pages will be stored.\n"
      ]
    },
    {
      "cell_type": "code",
      "execution_count": null,
      "metadata": {
        "colab": {
          "base_uri": "https://localhost:8080/"
        },
        "id": "2M5EMStLrH4V",
        "outputId": "50fc5eef-7a6d-4bb0-f198-92e4e31e5ba7"
      },
      "outputs": [
        {
          "name": "stdout",
          "output_type": "stream",
          "text": [
            "Collecting pdfplumber\n",
            "  Downloading pdfplumber-0.11.4-py3-none-any.whl.metadata (41 kB)\n",
            "\u001b[?25l     \u001b[90m━━━━━━━━━━━━━━━━━━━━━━━━━━━━━━━━━━━━━━━━\u001b[0m \u001b[32m0.0/42.0 kB\u001b[0m \u001b[31m?\u001b[0m eta \u001b[36m-:--:--\u001b[0m\r\u001b[2K     \u001b[90m━━━━━━━━━━━━━━━━━━━━━━━━━━━━━━━━━━━━━━━━\u001b[0m \u001b[32m42.0/42.0 kB\u001b[0m \u001b[31m1.7 MB/s\u001b[0m eta \u001b[36m0:00:00\u001b[0m\n",
            "\u001b[?25hCollecting pdfminer.six==20231228 (from pdfplumber)\n",
            "  Downloading pdfminer.six-20231228-py3-none-any.whl.metadata (4.2 kB)\n",
            "Requirement already satisfied: Pillow>=9.1 in /usr/local/lib/python3.10/dist-packages (from pdfplumber) (9.4.0)\n",
            "Collecting pypdfium2>=4.18.0 (from pdfplumber)\n",
            "  Downloading pypdfium2-4.30.0-py3-none-manylinux_2_17_x86_64.manylinux2014_x86_64.whl.metadata (48 kB)\n",
            "\u001b[2K     \u001b[90m━━━━━━━━━━━━━━━━━━━━━━━━━━━━━━━━━━━━━━━━\u001b[0m \u001b[32m48.5/48.5 kB\u001b[0m \u001b[31m2.3 MB/s\u001b[0m eta \u001b[36m0:00:00\u001b[0m\n",
            "\u001b[?25hRequirement already satisfied: charset-normalizer>=2.0.0 in /usr/local/lib/python3.10/dist-packages (from pdfminer.six==20231228->pdfplumber) (3.3.2)\n",
            "Requirement already satisfied: cryptography>=36.0.0 in /usr/local/lib/python3.10/dist-packages (from pdfminer.six==20231228->pdfplumber) (43.0.0)\n",
            "Requirement already satisfied: cffi>=1.12 in /usr/local/lib/python3.10/dist-packages (from cryptography>=36.0.0->pdfminer.six==20231228->pdfplumber) (1.17.0)\n",
            "Requirement already satisfied: pycparser in /usr/local/lib/python3.10/dist-packages (from cffi>=1.12->cryptography>=36.0.0->pdfminer.six==20231228->pdfplumber) (2.22)\n",
            "Downloading pdfplumber-0.11.4-py3-none-any.whl (59 kB)\n",
            "\u001b[2K   \u001b[90m━━━━━━━━━━━━━━━━━━━━━━━━━━━━━━━━━━━━━━━━\u001b[0m \u001b[32m59.2/59.2 kB\u001b[0m \u001b[31m2.6 MB/s\u001b[0m eta \u001b[36m0:00:00\u001b[0m\n",
            "\u001b[?25hDownloading pdfminer.six-20231228-py3-none-any.whl (5.6 MB)\n",
            "\u001b[2K   \u001b[90m━━━━━━━━━━━━━━━━━━━━━━━━━━━━━━━━━━━━━━━━\u001b[0m \u001b[32m5.6/5.6 MB\u001b[0m \u001b[31m36.8 MB/s\u001b[0m eta \u001b[36m0:00:00\u001b[0m\n",
            "\u001b[?25hDownloading pypdfium2-4.30.0-py3-none-manylinux_2_17_x86_64.manylinux2014_x86_64.whl (2.8 MB)\n",
            "\u001b[2K   \u001b[90m━━━━━━━━━━━━━━━━━━━━━━━━━━━━━━━━━━━━━━━━\u001b[0m \u001b[32m2.8/2.8 MB\u001b[0m \u001b[31m34.6 MB/s\u001b[0m eta \u001b[36m0:00:00\u001b[0m\n",
            "\u001b[?25hInstalling collected packages: pypdfium2, pdfminer.six, pdfplumber\n",
            "Successfully installed pdfminer.six-20231228 pdfplumber-0.11.4 pypdfium2-4.30.0\n"
          ]
        }
      ],
      "source": [
        "!pip install pdfplumber\n"
      ]
    },
    {
      "cell_type": "code",
      "execution_count": null,
      "metadata": {
        "colab": {
          "base_uri": "https://localhost:8080/"
        },
        "id": "USb6r3oGrVM1",
        "outputId": "ef5fe63c-99e3-4a87-ec2a-7410581d3a02"
      },
      "outputs": [
        {
          "name": "stdout",
          "output_type": "stream",
          "text": [
            "Extracted text is saved as output.txt\n"
          ]
        }
      ],
      "source": [
        "#Extracting TEXT from PDFs:\n",
        "\n",
        "import pdfplumber\n",
        "def extract_text(pdf_path,output_text_path):\n",
        "  with pdfplumber.open(pdf_path) as pdf:#Opens the PDF file specified by pdf_path. The with statement ensures that the file is properly closed after processing.\n",
        "    full_text =\"\" # Creates an empty string\n",
        "    for page in pdf.pages:\n",
        "      full_text += page.extract_text() + '\\n' #page.extract_text(): Extracts the text from the current page. full_text += ...  : Appends the extracted text from each page to full_text, with a newline character added after each page's text.\n",
        "\n",
        "    with open(output_text_path, 'w') as f: # Opens output_text_path in writeable mode\n",
        "      f.write(full_text)\n",
        "    print(f\"Extracted text is saved as {output_text_path}\")\n",
        "\n",
        "extract_text('merged.pdf', 'output.txt') #'Page+1.pdf': Path to the input PDF file from which text will be extracted. 'output.txt': Path to the output text file where the extracted text will be saved.\n"
      ]
    },
    {
      "cell_type": "code",
      "execution_count": null,
      "metadata": {
        "colab": {
          "base_uri": "https://localhost:8080/"
        },
        "id": "VRpLdKuU0zfO",
        "outputId": "ad93d2fd-8360-4702-f0fd-330e92b38769"
      },
      "outputs": [
        {
          "name": "stdout",
          "output_type": "stream",
          "text": [
            "Collecting pymupdf\n",
            "  Downloading PyMuPDF-1.24.10-cp310-none-manylinux2014_x86_64.whl.metadata (3.4 kB)\n",
            "Collecting PyMuPDFb==1.24.10 (from pymupdf)\n",
            "  Downloading PyMuPDFb-1.24.10-py3-none-manylinux2014_x86_64.manylinux_2_17_x86_64.whl.metadata (1.4 kB)\n",
            "Downloading PyMuPDF-1.24.10-cp310-none-manylinux2014_x86_64.whl (3.5 MB)\n",
            "\u001b[2K   \u001b[90m━━━━━━━━━━━━━━━━━━━━━━━━━━━━━━━━━━━━━━━━\u001b[0m \u001b[32m3.5/3.5 MB\u001b[0m \u001b[31m44.4 MB/s\u001b[0m eta \u001b[36m0:00:00\u001b[0m\n",
            "\u001b[?25hDownloading PyMuPDFb-1.24.10-py3-none-manylinux2014_x86_64.manylinux_2_17_x86_64.whl (15.9 MB)\n",
            "\u001b[2K   \u001b[90m━━━━━━━━━━━━━━━━━━━━━━━━━━━━━━━━━━━━━━━━\u001b[0m \u001b[32m15.9/15.9 MB\u001b[0m \u001b[31m84.4 MB/s\u001b[0m eta \u001b[36m0:00:00\u001b[0m\n",
            "\u001b[?25hInstalling collected packages: PyMuPDFb, pymupdf\n",
            "Successfully installed PyMuPDFb-1.24.10 pymupdf-1.24.10\n"
          ]
        }
      ],
      "source": [
        "!pip install pymupdf"
      ]
    },
    {
      "cell_type": "code",
      "execution_count": null,
      "metadata": {
        "colab": {
          "base_uri": "https://localhost:8080/"
        },
        "id": "DVdcLFGu8AFI",
        "outputId": "0f26e3ed-da17-40f8-d103-1d65cb6e0297"
      },
      "outputs": [
        {
          "name": "stdout",
          "output_type": "stream",
          "text": [
            "Savedfolder/image1_1.jpeg\n",
            "Savedfolder/image2_1.jpeg\n",
            "Savedfolder/image3_1.jpeg\n",
            "Savedfolder/image4_1.jpeg\n",
            "Savedfolder/image4_2.jpeg\n",
            "Savedfolder/image4_3.jpeg\n",
            "Savedfolder/image4_4.jpeg\n"
          ]
        }
      ],
      "source": [
        "#Extracting IMAGES from PDFs:\n",
        "\n",
        "import fitz                             # fitz module (part of PyMuPDF) allows us to extract text, images, and metadata from PDFs.\n",
        "def extract_images(pdf_path,output_dir):# pdf_path: the path to the PDF file from which we want to extract images.output_dir: the directory where the extracted images will be saved.\n",
        "  pdf_document = fitz.open(pdf_path)    # opens the PDF file.The fitz.open() function loads the PDF into a pdf_document object, which we can use to access pages and their content.\n",
        "  for page_index in range(len( pdf_document)):\n",
        "    page =pdf_document.load_page(page_index)# Loads specific page from pdf document\n",
        "\n",
        "    image_list = page.get_images(full=True)\n",
        "    ''' Retrieves all images from the current page and stores them in a list\n",
        "    image_list = page.get_images(full=True):\n",
        "    This retrieves metadata about all images on the page. It gives us a list of tuples, where each tuple contains information about the image, such as:\n",
        "    The image reference number (xref),\n",
        "    Image width and height,Color depth etc.'''\n",
        "\n",
        "    for img_index,img in enumerate(image_list):\n",
        "      xref = img[0]                                 # Image reference number\n",
        "      base_image = pdf_document.extract_image(xref) #This extracts the actual binary image data from the PDF using the xref reference number. 'extract_image(xref)' returns a dictionary with the actual image data (image_bytes) and format (image_ext), allowing us to save the image to disk.\n",
        "      '''get_images() only provides metadata about the images on the page. It tells us which images are available and how to reference them using xref.\n",
        "      extract_image(xref) is necessary to actually pull the image data using the xref provided in the metadata.'''\n",
        "      #extract_image()  method reads the image data associated with the given xref and returns it in a dictionary format.\n",
        "\n",
        "      image_bytes = base_image[\"image\"]     # Extracts binary data of the image from base_image dictionary.\n",
        "      image_ext = base_image[\"ext\"]         # Extracts the image file extension (such as png or jpg) from the base_image dictionary. 'ext'  key contains the image format, which is useful for saving the image with the correct file extension.\n",
        "      image_filename = f\"{output_dir}/image{page_index+1}_{img_index+1}.{image_ext}\" #Creates a filename for the extracted image.\n",
        "\n",
        "      with open(image_filename, 'wb') as image_file:\n",
        "        image_file.write(image_bytes)\n",
        "\n",
        "      print(f\"Saved{image_filename}\")\n",
        "\n",
        "extract_images('merged.pdf','folder')\n",
        "\n"
      ]
    },
    {
      "cell_type": "code",
      "execution_count": null,
      "metadata": {
        "colab": {
          "base_uri": "https://localhost:8080/"
        },
        "id": "O9bpWrbnu2i6",
        "outputId": "94b67d47-e035-4740-ce75-984e0e60e901"
      },
      "outputs": [
        {
          "name": "stdout",
          "output_type": "stream",
          "text": [
            "Encypted PDF file is saved as encrypted.pdf\n"
          ]
        }
      ],
      "source": [
        "# Encrypting PDFs\n",
        "import PyPDF2\n",
        "def encrypt_pdf(input_pdf,output_pdf,password):\n",
        "  pdf_reader= PyPDF2.PdfReader(input_pdf) # Create a PdfReader object to read the input PDF file\n",
        "  pdf_writer=PyPDF2.PdfWriter()           # Creates a PdfWriter object to hold the encrypted PDF.\n",
        "\n",
        "  for page_num in range(len(pdf_reader.pages)):\n",
        "    pdf_writer.add_page(pdf_reader.pages[page_num])  # Adds all the pages from the input pdf to the new pdf\n",
        "\n",
        "  pdf_writer.encrypt(password)  # Encrypts the PDF with the specified password\n",
        "\n",
        "  with open(output_pdf, 'wb') as out:\n",
        "    pdf_writer.write(out) # Saves the encrypted pdf to the specified output file\n",
        "\n",
        "  print(f'Encrypted PDF file is saved as {output_pdf}')\n",
        "\n",
        "encrypt_pdf('merged.pdf','encrypted.pdf','pass123')\n"
      ]
    },
    {
      "cell_type": "code",
      "execution_count": null,
      "metadata": {
        "colab": {
          "base_uri": "https://localhost:8080/"
        },
        "id": "vZd7L1MzwI44",
        "outputId": "122b0e19-99d5-4a74-8078-3628df19b24d"
      },
      "outputs": [
        {
          "name": "stdout",
          "output_type": "stream",
          "text": [
            "Decrypted PDF file is saved as decrypted.pdf\n"
          ]
        }
      ],
      "source": [
        "# Decrypting PDfs\n",
        "def decrypt_pdf(input_pdf,output_pdf,password):\n",
        "  pdf_reader = PyPDF2.PdfReader(input_pdf) # Create a PdfReader object to read the input PDF file\n",
        "  pdf_reader.decrypt(password)             # Decrypts the PDF with the provided password\n",
        "  pdf_writer = PyPDF2.PdfWriter()          # Creates a PdfWriter object to hold the encrypted PDF.\n",
        "\n",
        "  for page_num in range(len(pdf_reader.pages)):\n",
        "    pdf_writer.add_page(pdf_reader.pages[page_num]) # Adds all the pages from the input pdf to the new pdf\n",
        "\n",
        "  with open(output_pdf, 'wb') as out:\n",
        "    pdf_writer.write(out)                    # Saves the decrypted pdf to the specified output file\n",
        "\n",
        "  print(f\"Decrypted PDF file is saved as {output_pdf}\")\n",
        "\n",
        "decrypt_pdf('encrypted.pdf','decrypted.pdf','pass123')"
      ]
    },
    {
      "cell_type": "code",
      "execution_count": null,
      "metadata": {
        "colab": {
          "base_uri": "https://localhost:8080/"
        },
        "id": "tRG9WI-U2PLc",
        "outputId": "58c03451-eee2-4e0d-8894-cbf8e776c5bf"
      },
      "outputs": [
        {
          "name": "stdout",
          "output_type": "stream",
          "text": [
            "Rearranged PDF has been save as rearranged.pdf\n"
          ]
        }
      ],
      "source": [
        "# Rearreanging PDF Pages\n",
        "def rearrgane_pages(input_pdf,output_pdf,page_order):\n",
        "  pdf_reader = PyPDF2.PdfReader(input_pdf)  # Create a PdfReader object to read the input PDF file\n",
        "  pdf_writer = PyPDF2.PdfWriter()           # Creates a PdfWriter object to hold the rearranged PDF.\n",
        "\n",
        "  for page_num in page_order:\n",
        "    pdf_writer.add_page(pdf_reader.pages[page_num])  # Adds pages to the new PDF according to the specified order\n",
        "\n",
        "  with open(output_pdf, 'wb') as out:\n",
        "    pdf_writer.write(out)                            # Saves the rearranged PDF to the specified output file\n",
        "\n",
        "  print(f\"Rearranged PDF has been saved as {output_pdf}\")\n",
        "\n",
        "rearrgane_pages('merged.pdf', 'rearranged.pdf', [2,1,0]) # Here [2,1,0] means we are arranging file pages in reverse order"
      ]
    },
    {
      "cell_type": "code",
      "execution_count": null,
      "metadata": {
        "colab": {
          "base_uri": "https://localhost:8080/"
        },
        "id": "MsJDbR8gAQQc",
        "outputId": "f5a84472-7108-4b23-9992-127b63ede771"
      },
      "outputs": [
        {
          "name": "stdout",
          "output_type": "stream",
          "text": [
            "Rotated PDF has been saved as landscape.pdf\n"
          ]
        }
      ],
      "source": [
        "# Rotating Pages in a PDF:\n",
        "import PyPDF2\n",
        "def rotate_pages(input_pdf,output_pdf,rotation):\n",
        "  pdf_reader = PyPDF2.PdfReader(input_pdf)  # Create a PdfReader object to read the input PDF file\n",
        "  pdf_writer = PyPDF2.PdfWriter()           # Creates a PdfWriter object to hold the rearranged PDF.\n",
        "\n",
        "  for page_num in range(len(pdf_reader.pages)):\n",
        "    page = pdf_reader.pages[page_num]\n",
        "    page.rotate(rotation)                   # Rotates the page by specified angle\n",
        "    pdf_writer.add_page(page)               # Adds the rotated page to a new PDF\n",
        "\n",
        "  with open (output_pdf, 'wb') as out:\n",
        "    pdf_writer.write(out)                   # Saves the rotated PDF to the specified output file\n",
        "\n",
        "  print(f\"Rotated PDF has been saved as {output_pdf}\")\n",
        "\n",
        "rotate_pages('merged.pdf', 'landscape.pdf', 90)"
      ]
    },
    {
      "cell_type": "code",
      "execution_count": null,
      "metadata": {
        "colab": {
          "base_uri": "https://localhost:8080/"
        },
        "id": "5eIkdQQW3DYK",
        "outputId": "26ce7693-b94e-4f85-c157-0fedf67c567d"
      },
      "outputs": [
        {
          "name": "stdout",
          "output_type": "stream",
          "text": [
            "PDF file with updated metadata is saved as metadata_added.pdf\n"
          ]
        }
      ],
      "source": [
        "#Add Metadata to the PDF File:(e.g. Title ,Author,etc.)\n",
        "import PyPDF2\n",
        "def add_metadata(input_pdf,output_pdf,title,author):\n",
        "  pdf_reader = PyPDF2.PdfReader(input_pdf)  # Read the input PDF file\n",
        "  pdf_writer = PyPDF2.PdfWriter()           # Creates a PdfWriter object  to write pages and metadata to the new PDF.\n",
        "\n",
        "  for page_num in range(len(pdf_reader.pages)):\n",
        "     pdf_writer.add_page(pdf_reader.pages[page_num])               # Copy all pages from the input PDF to the new PDF'\n",
        "\n",
        "  metadata = {                             # Metadata dictionary with keys like /Title, /Author, and /Producer. The values for title and author are provided as arguments.\n",
        "      '/Title': title,\n",
        "      '/Author': author,\n",
        "      '/Producer': ''                      #  Empty producer, can be filled if desired.\n",
        "  }\n",
        "\n",
        "  pdf_writer.add_metadata(metadata)\n",
        "  with open(output_pdf, 'wb') as out:\n",
        "    pdf_writer.write(out)                  # Open the output PDF file in binary write mode ('wb') and save the updated PDF with the added metadata.\n",
        "\n",
        "  print(f\"PDF file with updated metadata is saved as {output_pdf}\")\n",
        "\n",
        "add_metadata('merged.pdf', 'metadata_added.pdf', 'Sample File', 'Bhavye')\n"
      ]
    },
    {
      "cell_type": "code",
      "execution_count": null,
      "metadata": {
        "colab": {
          "base_uri": "https://localhost:8080/"
        },
        "id": "uAR0SXHAyqHu",
        "outputId": "a5575fae-8538-42dd-cc4e-f3b2c1fd3340"
      },
      "outputs": [
        {
          "name": "stdout",
          "output_type": "stream",
          "text": [
            "Metadata of the pdf file is: \n",
            "/Producer: \n",
            "/Title: Sample File\n",
            "/Author: Bhavye\n"
          ]
        }
      ],
      "source": [
        "# Read the metadata of the pdf file\n",
        "import PyPDF2\n",
        "def read_metadata(pdf_file):             # The path of the PDF file from which we want to extract metadata\n",
        "  pdf_reader = PyPDF2.PdfReader(pdf_file)    # Create a PdfReader object to read the input PDF file\n",
        "  metadata = pdf_reader.metadata            # Extract metadata (title, author, etc.) from the PdfReader object and store it in the metadata variable.\n",
        "\n",
        "  print(\"Metadata of the pdf file is: \")\n",
        "  for key, value in metadata.items():\n",
        "    print(f\"{key}: {value}\")\n",
        "\n",
        "read_metadata('metadata_added.pdf')\n"
      ]
    },
    {
      "cell_type": "code",
      "execution_count": null,
      "metadata": {
        "colab": {
          "base_uri": "https://localhost:8080/"
        },
        "id": "fs_ddKw_9wP4",
        "outputId": "a33a534a-5711-4356-863f-87d40ee1013f"
      },
      "outputs": [
        {
          "name": "stdout",
          "output_type": "stream",
          "text": [
            "Collecting PyMuPDF\n",
            "  Downloading PyMuPDF-1.24.10-cp310-none-manylinux2014_x86_64.whl.metadata (3.4 kB)\n",
            "Collecting PyMuPDFb==1.24.10 (from PyMuPDF)\n",
            "  Downloading PyMuPDFb-1.24.10-py3-none-manylinux2014_x86_64.manylinux_2_17_x86_64.whl.metadata (1.4 kB)\n",
            "Downloading PyMuPDF-1.24.10-cp310-none-manylinux2014_x86_64.whl (3.5 MB)\n",
            "\u001b[2K   \u001b[90m━━━━━━━━━━━━━━━━━━━━━━━━━━━━━━━━━━━━━━━━\u001b[0m \u001b[32m3.5/3.5 MB\u001b[0m \u001b[31m24.9 MB/s\u001b[0m eta \u001b[36m0:00:00\u001b[0m\n",
            "\u001b[?25hDownloading PyMuPDFb-1.24.10-py3-none-manylinux2014_x86_64.manylinux_2_17_x86_64.whl (15.9 MB)\n",
            "\u001b[2K   \u001b[90m━━━━━━━━━━━━━━━━━━━━━━━━━━━━━━━━━━━━━━━━\u001b[0m \u001b[32m15.9/15.9 MB\u001b[0m \u001b[31m59.7 MB/s\u001b[0m eta \u001b[36m0:00:00\u001b[0m\n",
            "\u001b[?25hInstalling collected packages: PyMuPDFb, PyMuPDF\n",
            "Successfully installed PyMuPDF-1.24.10 PyMuPDFb-1.24.10\n"
          ]
        }
      ],
      "source": [
        "!pip install PyMuPDF"
      ]
    },
    {
      "cell_type": "code",
      "execution_count": null,
      "metadata": {
        "colab": {
          "base_uri": "https://localhost:8080/"
        },
        "id": "O3GKNXm679R_",
        "outputId": "389a47ad-41dc-483b-d364-18da8e8809ea"
      },
      "outputs": [
        {
          "name": "stdout",
          "output_type": "stream",
          "text": [
            "Optimized PDF file is save as optimized.pdf\n"
          ]
        }
      ],
      "source": [
        "# Optimizing the size of the PDF file (Compressing PDF file)\n",
        "import fitz\n",
        "def optimize_pdf(input_file,output_file):\n",
        "\n",
        "  pdf_document = fitz.open(input_file)  #  # Open the input PDF file using fitz\n",
        "  pdf_document.save(output_file, garbage = 3, deflate = True)\n",
        "  # Save the PDF with optimizations:\n",
        "  # -garbage=3: Removes redundant objects, such as deleted pages, to reduce file size.\n",
        "  # -deflate=True: Compresses certain objects like streams (text and image data).\n",
        "\n",
        "  print(f\"Optimized PDF file is saved as {output_file}\")\n",
        "\n",
        "\n",
        "optimize_pdf('merged.pdf','optimized.pdf')\n",
        "\n"
      ]
    },
    {
      "cell_type": "code",
      "execution_count": null,
      "metadata": {
        "id": "YRlx3nGm_tiN"
      },
      "outputs": [],
      "source": [
        "# PDF Merge Script\n",
        "import PyPDF2\n",
        "import os\n",
        "\n",
        "def merge_pdfs(input_folder, output_pdf):\n",
        "    # Remove the existing merged PDF file if it exists\n",
        "    if os.path.exists(output_pdf):\n",
        "        os.remove(output_pdf)\n",
        "\n",
        "    # Get a list of PDF files in the input folder\n",
        "    pdf_files = [file for file in os.listdir(input_folder) if file.endswith('.pdf')]\n",
        "\n",
        "    # Sort the list of PDF files (optional)\n",
        "    pdf_files.sort()\n",
        "\n",
        "    # Create a PDF writer object\n",
        "    pdf_writer = PyPDF2.PdfWriter()\n",
        "\n",
        "    # Loop through each PDF file and merge it into the output PDF\n",
        "    for pdf_file in pdf_files:\n",
        "        with open(os.path.join(input_folder, pdf_file), 'rb') as file:\n",
        "            pdf_reader = PyPDF2.PdfReader(file)\n",
        "            for page_num in range(len(pdf_reader.pages)):\n",
        "                page = pdf_reader.pages[page_num]\n",
        "                pdf_writer.add_page(page)\n",
        "\n",
        "    # Write the merged PDF to the output file\n",
        "    with open(output_pdf, 'wb') as output_file:\n",
        "        pdf_writer.write(output_file)\n",
        "\n",
        "# Example usage:\n",
        "input_folder = 'pdf_files'  # Path to the folder containing PDF files to merge\n",
        "output_pdf = 'pdf_files/merged.pdf'   # Output PDF file name (relative path)\n",
        "\n",
        "merge_pdfs(input_folder, output_pdf)\n",
        "\n",
        "\n",
        "'''\n",
        "# Installation\n",
        "\n",
        "To install the required library, run:\n",
        "```bash\n",
        "pip install PyPDF2 pdfplumber pymupdf\n",
        "\n",
        "How to Use:\n",
        "Place the Script in Your Working Directory\n",
        "Save this script in the directory where you want to work.\n",
        "\n",
        "Prepare Your PDFs:\n",
        "Create a folder named pdf_files (or change the input_folder variable in the script to match your folder name). Put all the PDF files you want to merge into this folder.\n",
        "\n",
        "Set Up the Script:\n",
        "Ensure the input_folder variable in the script points to your PDF folder. Set the output_pdf variable to your desired output file name and location.\n",
        "\n",
        "Run the Script:\n",
        "Open your command window (e.g., Terminal, Command Prompt). Navigate to the directory where the script is located.\n",
        "\n",
        "Run the script using:\n",
        "bash:\n",
        "python script_name.py\n",
        "Replace script_name.py with the actual name of your script.\n",
        "\n",
        "Create an Executable :\n",
        "To convert the script into a standalone executable, use auto-py-to-exe:\n",
        "\n",
        "Install auto-py-to-exe:\n",
        "\n",
        "bash:\n",
        "pip install auto-py-to-exe\n",
        "Open auto-py-to-exe:\n",
        "\n",
        "bash:\n",
        "auto-py-to-exe\n",
        "In the auto-py-to-exe GUI:\n",
        "Add your script (script_name.py).\n",
        "Configure additional options as needed.\n",
        "Click \"Convert .py to .exe\".\n",
        "After conversion, the executable will be available in the output directory specified in the auto-py-to-exe tool.\n",
        "\n",
        "Check the Output\n",
        "After running the script, the merged PDF will be saved in the location specified by output_pdf.\n",
        "\n",
        "Important Notes:\n",
        "This script is intended to be run from the command line or as an executable created using auto-py-to-exe.\n",
        "Ensure that the pdf_files directory and the script are in the same working directory, or adjust the paths as necessary.\n",
        "\n",
        "Example Usage\n",
        "The script example provided in the code:\n",
        "\n",
        "python:\n",
        "input_folder = 'pdf_files'\n",
        "output_pdf = 'pdf_files/merged.pdf'\n",
        "merge_pdfs(input_folder, output_pdf)\n",
        "This will merge all PDF files in the pdf_files folder and save the output as merged.pdf in the same folder.\n",
        "\n",
        "'''\n"
      ]
    }
  ],
  "metadata": {
    "colab": {
      "provenance": [],
      "toc_visible": true
    },
    "kernelspec": {
      "display_name": "Python 3",
      "name": "python3"
    },
    "language_info": {
      "name": "python"
    }
  },
  "nbformat": 4,
  "nbformat_minor": 0
}
